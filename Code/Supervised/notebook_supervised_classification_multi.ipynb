{
 "cells": [
  {
   "cell_type": "markdown",
   "metadata": {
    "id": "dKp_GOT2gZiE"
   },
   "source": [
    "# **Multiclass Classification Demo**"
   ]
  },
  {
   "cell_type": "code",
   "execution_count": null,
   "metadata": {
    "colab": {
     "base_uri": "https://localhost:8080/"
    },
    "id": "1uvzfNlCgZp2",
    "outputId": "7c588108-e93d-4c83-d955-60c0663adad9"
   },
   "outputs": [],
   "source": [
    "# run this cell if you're using Google Colab\n",
    "try:\n",
    "    import google.colab\n",
    "    IN_COLAB = True\n",
    "except:\n",
    "    IN_COLAB = False\n",
    "\n",
    "if IN_COLAB:\n",
    "  import sys\n",
    "  import os\n",
    "  !git clone https://github.com/satishchandrareddy/WhatisML.git\n",
    "  code_location = \"/content/WhatisML/Code/Supervised\"\n",
    "  sys.path.append(os.path.abspath(code_location)) "
   ]
  },
  {
   "cell_type": "markdown",
   "metadata": {
    "id": "zb0VFxgMgZyJ"
   },
   "source": [
    "## **Import Libraries**"
   ]
  },
  {
   "cell_type": "code",
   "execution_count": null,
   "metadata": {
    "id": "9jXK6ehqgZ4S"
   },
   "outputs": [],
   "source": [
    "from IPython.display import HTML\n",
    "import example_classification\n",
    "import matplotlib.pyplot as plt\n",
    "import NeuralNetwork\n",
    "import numpy as np\n",
    "import Optimizer\n",
    "import plot_results"
   ]
  },
  {
   "cell_type": "markdown",
   "metadata": {},
   "source": [
    "## **Settings to Change**\n",
    "If you would like to experiment, here are settings to change"
   ]
  },
  {
   "cell_type": "code",
   "execution_count": null,
   "metadata": {},
   "outputs": [],
   "source": [
    "# Things to try:\n",
    "# Change random seed to get different random numbers: seed\n",
    "# Change number of data samples: nsample\n",
    "# Change data case: try case =\"cubic\", \"disk\"\n",
    "# Change number of classes: nclass (between 2 and 7)\n",
    "# Change learning rate for optimization: learning_rate\n",
    "# Change number of iterations: niterations\n",
    "seed = 11\n",
    "nsample = 2000\n",
    "case = \"quadratic\"\n",
    "nclass = 4\n",
    "learning_rate = 0.02\n",
    "niteration = 100"
   ]
  },
  {
   "cell_type": "markdown",
   "metadata": {
    "id": "Hcmpoo9cgZ_4"
   },
   "source": [
    "### **1. Set up Data**"
   ]
  },
  {
   "cell_type": "code",
   "execution_count": null,
   "metadata": {
    "id": "cKOR4q3RgaFf"
   },
   "outputs": [],
   "source": [
    "np.random.seed(seed)\n",
    "nfeature = 2\n",
    "X,Y = example_classification.example(nfeature,nsample,case,nclass)\n",
    "plot_results.plot_results_data(X,Y,nclass)"
   ]
  },
  {
   "cell_type": "markdown",
   "metadata": {
    "id": "zzZ9PSSEgaMt"
   },
   "source": [
    "### **2. Define Model**"
   ]
  },
  {
   "cell_type": "code",
   "execution_count": null,
   "metadata": {
    "id": "gRATkgGagaSe"
   },
   "outputs": [],
   "source": [
    "model = NeuralNetwork.NeuralNetwork(nfeature)\n",
    "model.add_layer(15,\"tanh\")\n",
    "model.add_layer(11,\"tanh\")\n",
    "model.add_layer(9,\"tanh\")\n",
    "model.add_layer(6,\"tanh\")\n",
    "model.add_layer(3,\"tanh\")\n",
    "model.add_layer(nclass,\"softmax\")"
   ]
  },
  {
   "cell_type": "markdown",
   "metadata": {
    "id": "h63aPOyUgaZh"
   },
   "source": [
    "### **3. Compile model**"
   ]
  },
  {
   "cell_type": "code",
   "execution_count": null,
   "metadata": {
    "id": "ODSuSqAagafO"
   },
   "outputs": [],
   "source": [
    "optimizer = Optimizer.Adam(learning_rate,0.9,0.999,1e-8)\n",
    "model.compile(\"crossentropy\",optimizer)"
   ]
  },
  {
   "cell_type": "markdown",
   "metadata": {
    "id": "-GRc5_Shgals"
   },
   "source": [
    "### **4. Learning**"
   ]
  },
  {
   "cell_type": "code",
   "execution_count": null,
   "metadata": {
    "colab": {
     "base_uri": "https://localhost:8080/"
    },
    "id": "2vsMtauTgarN",
    "outputId": "3d5e560c-2fd1-4d23-dc51-a0a15398e139"
   },
   "outputs": [],
   "source": [
    "history = model.fit(X,Y,niteration)"
   ]
  },
  {
   "cell_type": "markdown",
   "metadata": {
    "id": "WvDf7dPKga0D"
   },
   "source": [
    "### **5. Plot results**"
   ]
  },
  {
   "cell_type": "code",
   "execution_count": null,
   "metadata": {
    "colab": {
     "base_uri": "https://localhost:8080/",
     "height": 295
    },
    "id": "-ntneXqDga5l",
    "outputId": "551a13b7-2105-41de-ee1f-5bafbc445053"
   },
   "outputs": [],
   "source": [
    "# plot loss\n",
    "plot_results.plot_results_history(history,[\"loss\"])"
   ]
  },
  {
   "cell_type": "code",
   "execution_count": null,
   "metadata": {
    "colab": {
     "base_uri": "https://localhost:8080/",
     "height": 295
    },
    "id": "bGYt0f0Hp3TD",
    "outputId": "9ae8baa6-932a-4cd7-ee4d-b088ce4bd3c0"
   },
   "outputs": [],
   "source": [
    "# plot heatmap in x0-x1 plane\n",
    "plot_results.plot_results_classification(X,Y,model,nclass)"
   ]
  },
  {
   "cell_type": "code",
   "execution_count": null,
   "metadata": {
    "colab": {
     "base_uri": "https://localhost:8080/",
     "height": 587
    },
    "id": "ZnwWnUmHp5AA",
    "outputId": "1a8966dc-3f61-405d-af64-599c1023e956"
   },
   "outputs": [],
   "source": [
    "# training process animation\n",
    "ani = plot_results.plot_results_classification_animation(X,Y,model,nclass)\n",
    "vid = HTML(ani.to_html5_video())\n",
    "vid"
   ]
  },
  {
   "cell_type": "code",
   "execution_count": null,
   "metadata": {},
   "outputs": [],
   "source": []
  }
 ],
 "metadata": {
  "colab": {
   "collapsed_sections": [],
   "name": "driver_supervised_classification_multi.ipynb",
   "provenance": []
  },
  "kernelspec": {
   "display_name": "Python 3",
   "language": "python",
   "name": "python3"
  },
  "language_info": {
   "codemirror_mode": {
    "name": "ipython",
    "version": 3
   },
   "file_extension": ".py",
   "mimetype": "text/x-python",
   "name": "python",
   "nbconvert_exporter": "python",
   "pygments_lexer": "ipython3",
   "version": "3.8.3"
  }
 },
 "nbformat": 4,
 "nbformat_minor": 1
}
