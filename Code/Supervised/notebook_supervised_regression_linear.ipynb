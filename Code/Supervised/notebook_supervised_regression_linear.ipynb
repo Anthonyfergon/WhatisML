{
 "cells": [
  {
   "cell_type": "markdown",
   "metadata": {
    "id": "mwias6mHeeY1"
   },
   "source": [
    "# **Linear Regression Demo**"
   ]
  },
  {
   "cell_type": "code",
   "execution_count": null,
   "metadata": {
    "colab": {
     "base_uri": "https://localhost:8080/"
    },
    "id": "QxJE8yfpefR3",
    "outputId": "ed3c16bf-a848-41f7-9b7b-aa642d6f45a3"
   },
   "outputs": [],
   "source": [
    "# run this cell if you're using Google Colab\n",
    "try:\n",
    "    import google.colab\n",
    "    IN_COLAB = True\n",
    "except:\n",
    "    IN_COLAB = False\n",
    "\n",
    "if IN_COLAB:\n",
    "  import sys\n",
    "  import os\n",
    "  !git clone https://github.com/satishchandrareddy/WhatisML.git\n",
    "  code_location = \"/content/WhatisML/Code/Supervised\"\n",
    "  sys.path.append(os.path.abspath(code_location)) "
   ]
  },
  {
   "cell_type": "markdown",
   "metadata": {
    "id": "rBD8MtHJetpz"
   },
   "source": [
    "## **Import Libraries**"
   ]
  },
  {
   "cell_type": "code",
   "execution_count": null,
   "metadata": {
    "id": "lwHet7XSeveZ"
   },
   "outputs": [],
   "source": [
    "from IPython.display import HTML\n",
    "import example_regression\n",
    "import matplotlib.pyplot as plt\n",
    "import NeuralNetwork\n",
    "import numpy as np\n",
    "import Optimizer\n",
    "import plot_results"
   ]
  },
  {
   "cell_type": "markdown",
   "metadata": {},
   "source": [
    "## **Settings to Change**\n",
    "If you would like to experiment, here are settings to change"
   ]
  },
  {
   "cell_type": "code",
   "execution_count": null,
   "metadata": {},
   "outputs": [],
   "source": [
    "# Things to try:\n",
    "# Change random seed to get different random numbers: seed (integer)\n",
    "# Change number of data samples: nsample\n",
    "# Change learning rate for optimization: learning_rate\n",
    "# Change number of iterations: niteration\n",
    "seed = 100\n",
    "nsample = 500\n",
    "learning_rate = 0.1\n",
    "niteration = 100"
   ]
  },
  {
   "cell_type": "markdown",
   "metadata": {
    "id": "cisVXg_he0QV"
   },
   "source": [
    "### **1. Set up Data**"
   ]
  },
  {
   "cell_type": "code",
   "execution_count": null,
   "metadata": {
    "id": "tXYJvm12e0XH"
   },
   "outputs": [],
   "source": [
    "np.random.seed(seed)\n",
    "nfeature = 1\n",
    "X,Y = example_regression.example(nfeature,nsample)\n",
    "plot_results.plot_results_linear(X,Y)"
   ]
  },
  {
   "cell_type": "markdown",
   "metadata": {
    "id": "2W8aZK-pe0eA"
   },
   "source": [
    "### **2. Define Model**"
   ]
  },
  {
   "cell_type": "code",
   "execution_count": null,
   "metadata": {
    "id": "N6ietakOe0ku"
   },
   "outputs": [],
   "source": [
    "model = NeuralNetwork.NeuralNetwork(1)\n",
    "model.add_layer(1,\"linear\")\n",
    "# set initial guess for W and b\n",
    "initial_param = [{\"W\": -0.2, \"b\":1.4}]\n",
    "model.set_param(initial_param)"
   ]
  },
  {
   "cell_type": "markdown",
   "metadata": {
    "id": "LSmPIBnSe0q-"
   },
   "source": [
    "### **3. Compile model**"
   ]
  },
  {
   "cell_type": "code",
   "execution_count": null,
   "metadata": {
    "id": "UiOIWewne0xP"
   },
   "outputs": [],
   "source": [
    "optimizer = Optimizer.GradientDescent(learning_rate)\n",
    "model.compile(\"meansquarederror\",optimizer)"
   ]
  },
  {
   "cell_type": "markdown",
   "metadata": {
    "id": "3vEv5OzVe06j"
   },
   "source": [
    "### **4. Learning**"
   ]
  },
  {
   "cell_type": "code",
   "execution_count": null,
   "metadata": {
    "colab": {
     "base_uri": "https://localhost:8080/"
    },
    "id": "Mbn3o1Jle0_y",
    "outputId": "2dffcc0e-a451-434e-e9a6-3ce5fbac26a7"
   },
   "outputs": [],
   "source": [
    "history = model.fit(X,Y,niteration)"
   ]
  },
  {
   "cell_type": "markdown",
   "metadata": {
    "id": "x0uGbyGze19V"
   },
   "source": [
    "## **5. Plot results**"
   ]
  },
  {
   "cell_type": "code",
   "execution_count": null,
   "metadata": {
    "colab": {
     "base_uri": "https://localhost:8080/",
     "height": 295
    },
    "id": "a9IRGPOGe2DW",
    "outputId": "6258644e-132a-4120-efdb-b916c6534c8d"
   },
   "outputs": [],
   "source": [
    "# plot loss \n",
    "plot_results.plot_results_history(history,[\"loss\"])"
   ]
  },
  {
   "cell_type": "code",
   "execution_count": null,
   "metadata": {
    "colab": {
     "base_uri": "https://localhost:8080/",
     "height": 587
    },
    "id": "DaELZjNlMnBq",
    "outputId": "aed2261c-44bd-4616-b042-0745207d2461"
   },
   "outputs": [],
   "source": [
    "# training process animation\n",
    "ani = plot_results.plot_results_linear_animation(X,Y,model)\n",
    "vid = HTML(ani.to_html5_video())\n",
    "vid"
   ]
  },
  {
   "cell_type": "code",
   "execution_count": null,
   "metadata": {},
   "outputs": [],
   "source": []
  }
 ],
 "metadata": {
  "colab": {
   "collapsed_sections": [],
   "name": "driver_supervised_regression_linear.ipynb",
   "provenance": []
  },
  "kernelspec": {
   "display_name": "Python 3",
   "language": "python",
   "name": "python3"
  },
  "language_info": {
   "codemirror_mode": {
    "name": "ipython",
    "version": 3
   },
   "file_extension": ".py",
   "mimetype": "text/x-python",
   "name": "python",
   "nbconvert_exporter": "python",
   "pygments_lexer": "ipython3",
   "version": "3.8.3"
  }
 },
 "nbformat": 4,
 "nbformat_minor": 1
}
