{
 "cells": [
  {
   "cell_type": "markdown",
   "metadata": {
    "id": "dKp_GOT2gZiE"
   },
   "source": [
    "# **Multiclass Classification (MNIST) Demo**"
   ]
  },
  {
   "cell_type": "code",
   "execution_count": null,
   "metadata": {
    "colab": {
     "base_uri": "https://localhost:8080/"
    },
    "id": "1uvzfNlCgZp2",
    "outputId": "7bd22285-fdca-4cf6-ba20-2eaed9e947da"
   },
   "outputs": [],
   "source": [
    "# run this cell if you're using Google Colab\n",
    "try:\n",
    "    import google.colab\n",
    "    IN_COLAB = True\n",
    "except:\n",
    "    IN_COLAB = False\n",
    "\n",
    "if IN_COLAB:\n",
    "  import sys\n",
    "  import os\n",
    "  !git clone https://github.com/satishchandrareddy/WhatisML.git\n",
    "  code_location = \"/content/WhatisML/Code/Supervised\"\n",
    "  sys.path.append(os.path.abspath(code_location)) "
   ]
  },
  {
   "cell_type": "markdown",
   "metadata": {
    "id": "zb0VFxgMgZyJ"
   },
   "source": [
    "## **Import Libraries**"
   ]
  },
  {
   "cell_type": "code",
   "execution_count": null,
   "metadata": {
    "id": "9jXK6ehqgZ4S"
   },
   "outputs": [],
   "source": [
    "from IPython.display import HTML\n",
    "import load_mnist\n",
    "import NeuralNetwork\n",
    "import matplotlib.pyplot as plt\n",
    "import numpy as np\n",
    "import Optimizer\n",
    "import plot_results"
   ]
  },
  {
   "cell_type": "markdown",
   "metadata": {},
   "source": [
    "## **Settings to Change**\n",
    "If you would like to experiment, here are settings to change"
   ]
  },
  {
   "cell_type": "code",
   "execution_count": null,
   "metadata": {},
   "outputs": [],
   "source": [
    "# Things to try:\n",
    "# Change random seed to get different random numbers: seed\n",
    "# Change number of training data samples: ntrain up to 60000\n",
    "# Change number of validation data samples: nvalid up to 10000\n",
    "# Change learning rate for optimization: learning_rate\n",
    "# Change number of iterations: niterations\n",
    "seed = 10\n",
    "ntrain = 6000\n",
    "nvalid = 1000\n",
    "learning_rate = 0.02\n",
    "niteration = 40"
   ]
  },
  {
   "cell_type": "markdown",
   "metadata": {
    "id": "Hcmpoo9cgZ_4"
   },
   "source": [
    "### **1. Set up Data**"
   ]
  },
  {
   "cell_type": "code",
   "execution_count": null,
   "metadata": {
    "colab": {
     "base_uri": "https://localhost:8080/"
    },
    "id": "cKOR4q3RgaFf",
    "outputId": "7a60ae5f-18d3-4dc3-f8a1-e4343d513049"
   },
   "outputs": [],
   "source": [
    "nclass = 10\n",
    "Xtrain,Ytrain,Xvalid,Yvalid = load_mnist.load_mnist(ntrain,nvalid)\n",
    "plot_results.plot_data_mnist(Xtrain,Ytrain)"
   ]
  },
  {
   "cell_type": "markdown",
   "metadata": {
    "id": "zzZ9PSSEgaMt"
   },
   "source": [
    "### **2. Define Model**"
   ]
  },
  {
   "cell_type": "code",
   "execution_count": null,
   "metadata": {
    "id": "gRATkgGagaSe"
   },
   "outputs": [],
   "source": [
    "nfeature = Xtrain.shape[0]\n",
    "np.random.seed(seed)\n",
    "model = NeuralNetwork.NeuralNetwork(nfeature)\n",
    "model.add_layer(128,\"relu\")\n",
    "model.add_layer(nclass,\"softmax\")"
   ]
  },
  {
   "cell_type": "markdown",
   "metadata": {
    "id": "h63aPOyUgaZh"
   },
   "source": [
    "### **3. Compile model**"
   ]
  },
  {
   "cell_type": "code",
   "execution_count": null,
   "metadata": {
    "colab": {
     "base_uri": "https://localhost:8080/"
    },
    "id": "ODSuSqAagafO",
    "outputId": "bca0ed80-1afd-4073-aa1c-1487cc3d888d"
   },
   "outputs": [],
   "source": [
    "optimizer = Optimizer.Adam(learning_rate,0.9,0.999,1e-7)\n",
    "model.compile(\"crossentropy\",optimizer)\n",
    "model.summary()"
   ]
  },
  {
   "cell_type": "markdown",
   "metadata": {
    "id": "-GRc5_Shgals"
   },
   "source": [
    "### **4. Learning**"
   ]
  },
  {
   "cell_type": "code",
   "execution_count": null,
   "metadata": {
    "colab": {
     "base_uri": "https://localhost:8080/"
    },
    "id": "2vsMtauTgarN",
    "outputId": "bcb69752-0145-4729-cd69-ca5bb69fdc69"
   },
   "outputs": [],
   "source": [
    "history = model.fit(Xtrain,Ytrain,niteration)"
   ]
  },
  {
   "cell_type": "markdown",
   "metadata": {
    "id": "WvDf7dPKga0D"
   },
   "source": [
    "### **5. Plot results**"
   ]
  },
  {
   "cell_type": "code",
   "execution_count": null,
   "metadata": {
    "colab": {
     "base_uri": "https://localhost:8080/",
     "height": 294
    },
    "id": "-ntneXqDga5l",
    "outputId": "83c06e9c-a296-4cfb-d873-2933d3ab0750"
   },
   "outputs": [],
   "source": [
    "# plot loss\n",
    "plot_results.plot_results_history(history,[\"loss\"])"
   ]
  },
  {
   "cell_type": "code",
   "execution_count": null,
   "metadata": {
    "colab": {
     "base_uri": "https://localhost:8080/",
     "height": 295
    },
    "id": "DYXzxrRopzab",
    "outputId": "1d1f4a98-9ddd-4046-f78b-bda6a7333995"
   },
   "outputs": [],
   "source": [
    "# Compute predicted results and accuracy for validation dataset\n",
    "Yvalid_pred = model.predict(Xvalid)\n",
    "accuracy = model.accuracy(Yvalid,Yvalid_pred)\n",
    "print(\"Accuracy for Validation Data Set: {}\".format(accuracy))"
   ]
  },
  {
   "cell_type": "code",
   "execution_count": null,
   "metadata": {
    "colab": {
     "base_uri": "https://localhost:8080/",
     "height": 557
    },
    "id": "ZnwWnUmHp5AA",
    "outputId": "994ff784-01af-425b-83ec-86e88280bc6d"
   },
   "outputs": [],
   "source": [
    "# prediction results animation\n",
    "ani = plot_results.plot_results_mnist_animation(Xvalid,Yvalid,Yvalid_pred,25)\n",
    "vid = HTML(ani.to_html5_video())\n",
    "vid"
   ]
  },
  {
   "cell_type": "code",
   "execution_count": null,
   "metadata": {},
   "outputs": [],
   "source": []
  }
 ],
 "metadata": {
  "colab": {
   "collapsed_sections": [],
   "name": "driver_supervised_mnist.ipynb",
   "provenance": []
  },
  "kernelspec": {
   "display_name": "Python 3",
   "language": "python",
   "name": "python3"
  },
  "language_info": {
   "codemirror_mode": {
    "name": "ipython",
    "version": 3
   },
   "file_extension": ".py",
   "mimetype": "text/x-python",
   "name": "python",
   "nbconvert_exporter": "python",
   "pygments_lexer": "ipython3",
   "version": "3.8.3"
  }
 },
 "nbformat": 4,
 "nbformat_minor": 1
}
