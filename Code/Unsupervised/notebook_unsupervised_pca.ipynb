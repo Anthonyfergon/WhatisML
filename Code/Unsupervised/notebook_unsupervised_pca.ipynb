{
 "cells": [
  {
   "cell_type": "markdown",
   "metadata": {
    "id": "3oCnwvO3hkpp"
   },
   "source": [
    "# **PCA Demo**"
   ]
  },
  {
   "cell_type": "code",
   "execution_count": null,
   "metadata": {
    "colab": {
     "base_uri": "https://localhost:8080/"
    },
    "id": "_r5DXEDwhkvf",
    "outputId": "73a7eb7d-2d03-4af9-fe14-4fdbec6f2308"
   },
   "outputs": [],
   "source": [
    "# run this cell if you're using Google Colab\n",
    "try:\n",
    "    import google.colab\n",
    "    IN_COLAB = True\n",
    "except:\n",
    "    IN_COLAB = False\n",
    "\n",
    "if IN_COLAB:\n",
    "  import sys\n",
    "  import os\n",
    "  !git clone https://github.com/satishchandrareddy/WhatisML.git\n",
    "  code_location = \"/content/WhatisML/Code/Unsupervised\"\n",
    "  sys.path.append(os.path.abspath(code_location)) "
   ]
  },
  {
   "cell_type": "markdown",
   "metadata": {
    "id": "a7dpF8iWhk3M"
   },
   "source": [
    "## **Import Libraries**"
   ]
  },
  {
   "cell_type": "code",
   "execution_count": null,
   "metadata": {
    "id": "HAD5Z-wVhk75"
   },
   "outputs": [],
   "source": [
    "%matplotlib inline\n",
    "import load_mnist\n",
    "import matplotlib.pyplot as plt\n",
    "import numpy as np\n",
    "import pca\n",
    "import plot_data"
   ]
  },
  {
   "cell_type": "markdown",
   "metadata": {},
   "source": [
    "## **Settings to Change**\n",
    "If you would like to experiment, here are settings to change"
   ]
  },
  {
   "cell_type": "code",
   "execution_count": null,
   "metadata": {},
   "outputs": [],
   "source": [
    "# Things to try:\n",
    "# Change number of training data samples: ntrain up to 10000\n",
    "# Change variance capture: variance capture (greater than 0 and less equal to 1)\n",
    "ntrain = 6000\n",
    "variance_capture = 0.99"
   ]
  },
  {
   "cell_type": "markdown",
   "metadata": {
    "id": "2Hxd84D4hlC8"
   },
   "source": [
    "### **1. Set up Data**"
   ]
  },
  {
   "cell_type": "code",
   "execution_count": null,
   "metadata": {
    "colab": {
     "base_uri": "https://localhost:8080/"
    },
    "id": "ETeuBWBJhlH6",
    "outputId": "16b4106d-1b68-4569-90ab-167dd29ea047"
   },
   "outputs": [],
   "source": [
    "# load mnist data set\n",
    "X,Y = load_mnist.load_mnist(ntrain)\n",
    "# compute mean\n",
    "Xmean = np.mean(X,axis=1,keepdims=True)"
   ]
  },
  {
   "cell_type": "markdown",
   "metadata": {
    "id": "qjCXh13GhlOp"
   },
   "source": [
    "### **2. Create Model**"
   ]
  },
  {
   "cell_type": "code",
   "execution_count": null,
   "metadata": {
    "id": "bLFL7G18hlT4"
   },
   "outputs": [],
   "source": [
    "# perform pca\n",
    "model = pca.pca(variance_capture)"
   ]
  },
  {
   "cell_type": "markdown",
   "metadata": {
    "id": "OC3jSW_Ahlaj"
   },
   "source": [
    "### **3. Learning**"
   ]
  },
  {
   "cell_type": "code",
   "execution_count": null,
   "metadata": {
    "colab": {
     "base_uri": "https://localhost:8080/"
    },
    "id": "83g5-qeThlfj",
    "outputId": "2ab4881a-e172-48e3-fdb2-2ca69d45e385"
   },
   "outputs": [],
   "source": [
    "reduced_X = model.compute_reduced(X-Xmean)"
   ]
  },
  {
   "cell_type": "markdown",
   "metadata": {},
   "source": [
    "### **4. Plot Results**"
   ]
  },
  {
   "cell_type": "code",
   "execution_count": null,
   "metadata": {},
   "outputs": [],
   "source": [
    "#plot original digit images\n",
    "plot_data.plot_data_mnist(X,Y)"
   ]
  },
  {
   "cell_type": "code",
   "execution_count": null,
   "metadata": {},
   "outputs": [],
   "source": [
    "# plot digit images after reconstructing with reduced number of principal components\n",
    "plot_data.plot_data_mnist(reduced_X+Xmean,Y)"
   ]
  },
  {
   "cell_type": "code",
   "execution_count": null,
   "metadata": {},
   "outputs": [],
   "source": []
  }
 ],
 "metadata": {
  "colab": {
   "collapsed_sections": [],
   "name": "driver_unsupervised_pca.ipynb",
   "provenance": []
  },
  "kernelspec": {
   "display_name": "Python 3",
   "language": "python",
   "name": "python3"
  },
  "language_info": {
   "codemirror_mode": {
    "name": "ipython",
    "version": 3
   },
   "file_extension": ".py",
   "mimetype": "text/x-python",
   "name": "python",
   "nbconvert_exporter": "python",
   "pygments_lexer": "ipython3",
   "version": "3.8.3"
  }
 },
 "nbformat": 4,
 "nbformat_minor": 1
}
