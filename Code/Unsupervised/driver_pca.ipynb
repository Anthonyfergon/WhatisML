{
  "nbformat": 4,
  "nbformat_minor": 0,
  "metadata": {
    "colab": {
      "name": "driver_pca.ipynb",
      "provenance": [],
      "collapsed_sections": []
    },
    "kernelspec": {
      "name": "python3",
      "display_name": "Python 3"
    }
  },
  "cells": [
    {
      "cell_type": "markdown",
      "metadata": {
        "id": "3oCnwvO3hkpp"
      },
      "source": [
        "# **PCA Demo**"
      ]
    },
    {
      "cell_type": "code",
      "metadata": {
        "id": "_r5DXEDwhkvf",
        "outputId": "73a7eb7d-2d03-4af9-fe14-4fdbec6f2308",
        "colab": {
          "base_uri": "https://localhost:8080/"
        }
      },
      "source": [
        "# run this cell if you're using Google Colab\n",
        "try:\n",
        "    import google.colab\n",
        "    IN_COLAB = True\n",
        "except:\n",
        "    IN_COLAB = False\n",
        "\n",
        "if IN_COLAB:\n",
        "  import sys\n",
        "  import os\n",
        "  !git clone https://github.com/satishchandrareddy/WhatisML.git\n",
        "  code_location = \"/content/WhatisML/Code/Unsupervised\"\n",
        "  sys.path.append(os.path.abspath(code_location)) "
      ],
      "execution_count": 1,
      "outputs": [
        {
          "output_type": "stream",
          "text": [
            "Cloning into 'WhatisML'...\n",
            "remote: Enumerating objects: 250, done.\u001b[K\n",
            "remote: Counting objects: 100% (250/250), done.\u001b[K\n",
            "remote: Compressing objects: 100% (145/145), done.\u001b[K\n",
            "remote: Total 250 (delta 109), reused 219 (delta 78), pack-reused 0\u001b[K\n",
            "Receiving objects: 100% (250/250), 21.34 MiB | 20.12 MiB/s, done.\n",
            "Resolving deltas: 100% (109/109), done.\n"
          ],
          "name": "stdout"
        }
      ]
    },
    {
      "cell_type": "markdown",
      "metadata": {
        "id": "a7dpF8iWhk3M"
      },
      "source": [
        "## **Import Libraries**"
      ]
    },
    {
      "cell_type": "code",
      "metadata": {
        "id": "HAD5Z-wVhk75"
      },
      "source": [
        "from IPython.display import HTML\n",
        "import load_mnist\n",
        "import numpy as np\n",
        "import pca"
      ],
      "execution_count": 3,
      "outputs": []
    },
    {
      "cell_type": "markdown",
      "metadata": {
        "id": "2Hxd84D4hlC8"
      },
      "source": [
        "## **1. Set up Data**"
      ]
    },
    {
      "cell_type": "code",
      "metadata": {
        "id": "ETeuBWBJhlH6",
        "outputId": "16b4106d-1b68-4569-90ab-167dd29ea047",
        "colab": {
          "base_uri": "https://localhost:8080/"
        }
      },
      "source": [
        "# load mnist data set\n",
        "X,_,_,_ = load_mnist.load_mnist(6000,1000)\n",
        "# subtract mean\n",
        "X = X - np.mean(X,axis=1,keepdims=True)"
      ],
      "execution_count": 4,
      "outputs": [
        {
          "output_type": "stream",
          "text": [
            "Xtrain.shape: (784, 6000) - Ytrain.shape: (1, 6000)\n",
            "Xvalid.shape: (784, 1000) - Yvalid.shape: (1, 1000)\n"
          ],
          "name": "stdout"
        }
      ]
    },
    {
      "cell_type": "markdown",
      "metadata": {
        "id": "qjCXh13GhlOp"
      },
      "source": [
        "## **2. Create Model**"
      ]
    },
    {
      "cell_type": "code",
      "metadata": {
        "id": "bLFL7G18hlT4"
      },
      "source": [
        "# perform pca\n",
        "variance_capture = 0.99\n",
        "model = pca.pca(variance_capture)"
      ],
      "execution_count": 9,
      "outputs": []
    },
    {
      "cell_type": "markdown",
      "metadata": {
        "id": "OC3jSW_Ahlaj"
      },
      "source": [
        "## **3. Train Model**"
      ]
    },
    {
      "cell_type": "code",
      "metadata": {
        "id": "83g5-qeThlfj",
        "outputId": "2ab4881a-e172-48e3-fdb2-2ca69d45e385",
        "colab": {
          "base_uri": "https://localhost:8080/"
        }
      },
      "source": [
        "reduced_X = model.compute_reduced(X)"
      ],
      "execution_count": 10,
      "outputs": [
        {
          "output_type": "stream",
          "text": [
            "Original dimension: 784\n",
            "Total variance: 317049.44979979744\n",
            "Reduced dimension for 0.99 variance capture: 322\n"
          ],
          "name": "stdout"
        }
      ]
    }
  ]
}