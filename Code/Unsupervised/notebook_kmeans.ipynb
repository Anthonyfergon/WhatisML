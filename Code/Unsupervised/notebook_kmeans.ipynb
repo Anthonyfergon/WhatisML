{
 "cells": [
  {
   "cell_type": "markdown",
   "metadata": {
    "id": "3oCnwvO3hkpp"
   },
   "source": [
    "# **K Means Clustering Demo**"
   ]
  },
  {
   "cell_type": "code",
   "execution_count": null,
   "metadata": {
    "colab": {
     "base_uri": "https://localhost:8080/"
    },
    "id": "_r5DXEDwhkvf",
    "outputId": "966d0b6c-a46b-4530-f981-15b350be752d"
   },
   "outputs": [],
   "source": [
    "# run this cell if you're using Google Colab\n",
    "try:\n",
    "    import google.colab\n",
    "    IN_COLAB = True\n",
    "except:\n",
    "    IN_COLAB = False\n",
    "\n",
    "if IN_COLAB:\n",
    "  import sys\n",
    "  import os\n",
    "  !git clone https://github.com/satishchandrareddy/WhatisML.git\n",
    "  code_location = \"/content/WhatisML/Code/Unsupervised\"\n",
    "  sys.path.append(os.path.abspath(code_location)) "
   ]
  },
  {
   "cell_type": "markdown",
   "metadata": {
    "id": "a7dpF8iWhk3M"
   },
   "source": [
    "## **Import Libraries**"
   ]
  },
  {
   "cell_type": "code",
   "execution_count": null,
   "metadata": {
    "id": "HAD5Z-wVhk75"
   },
   "outputs": [],
   "source": [
    "from IPython.display import HTML\n",
    "import create_data_cluster\n",
    "import kmeans\n",
    "import matplotlib.pyplot as plt\n",
    "import numpy as np\n",
    "import plot_data"
   ]
  },
  {
   "cell_type": "markdown",
   "metadata": {},
   "source": [
    "## **Settings to Change**\n",
    "If you would like to experiment, here are settings to change"
   ]
  },
  {
   "cell_type": "code",
   "execution_count": null,
   "metadata": {},
   "outputs": [],
   "source": [
    "# Things to try:\n",
    "# Change random seed to get different random data points: seed\n",
    "# Change number of data samples: nsample\n",
    "# Change number of clusters: ncluster (up to 10)\n",
    "# Change number of iterations if needed: niterations\n",
    "seed = 21\n",
    "nsample = 200\n",
    "ncluster = 3\n",
    "niteration = 20"
   ]
  },
  {
   "cell_type": "markdown",
   "metadata": {
    "id": "2Hxd84D4hlC8"
   },
   "source": [
    "### **1. Set up Data**"
   ]
  },
  {
   "cell_type": "code",
   "execution_count": null,
   "metadata": {
    "id": "ETeuBWBJhlH6"
   },
   "outputs": [],
   "source": [
    "np.random.seed(seed)\n",
    "nfeature = 2\n",
    "std = 1\n",
    "X,mean = create_data_cluster.create_data_cluster(nfeature,nsample,ncluster,std)\n",
    "plot_data.plot_data2d(X)"
   ]
  },
  {
   "cell_type": "markdown",
   "metadata": {
    "id": "qjCXh13GhlOp"
   },
   "source": [
    "### **2. Create Model**"
   ]
  },
  {
   "cell_type": "code",
   "execution_count": null,
   "metadata": {
    "id": "bLFL7G18hlT4"
   },
   "outputs": [],
   "source": [
    "model = kmeans.kmeans(nfeature,ncluster)"
   ]
  },
  {
   "cell_type": "markdown",
   "metadata": {
    "id": "OC3jSW_Ahlaj"
   },
   "source": [
    "### **3. Learning**"
   ]
  },
  {
   "cell_type": "code",
   "execution_count": null,
   "metadata": {
    "colab": {
     "base_uri": "https://localhost:8080/"
    },
    "id": "83g5-qeThlfj",
    "outputId": "ea1c874d-0466-49c7-bb21-684f179e4f23"
   },
   "outputs": [],
   "source": [
    "model.fit(X,niteration)"
   ]
  },
  {
   "cell_type": "markdown",
   "metadata": {
    "id": "sN-zWXPbhmJh"
   },
   "source": [
    "### **4. Plot results**"
   ]
  },
  {
   "cell_type": "code",
   "execution_count": null,
   "metadata": {
    "colab": {
     "base_uri": "https://localhost:8080/",
     "height": 279
    },
    "id": "TW0deFffhmPe",
    "outputId": "8a36885c-ba77-4c98-c639-71aa384352d1"
   },
   "outputs": [],
   "source": [
    "# plot objective function\n",
    "model.plot_objective()"
   ]
  },
  {
   "cell_type": "code",
   "execution_count": null,
   "metadata": {
    "colab": {
     "base_uri": "https://localhost:8080/",
     "height": 295
    },
    "id": "kEf_vZo7TRJQ",
    "outputId": "4ce71cf4-fae5-4688-97a5-c1db8811fb32"
   },
   "outputs": [],
   "source": [
    "# plot initial results\n",
    "plot_data.plot_data2d(X,mean=model.get_meansave()[0])"
   ]
  },
  {
   "cell_type": "code",
   "execution_count": null,
   "metadata": {
    "colab": {
     "base_uri": "https://localhost:8080/",
     "height": 587
    },
    "id": "x2W3TmHITbVB",
    "outputId": "7c87e297-f600-4c6f-ad54-eb2db916baa1"
   },
   "outputs": [],
   "source": [
    "# training process animation\n",
    "ani = model.plot_results_animation(X)\n",
    "vid = HTML(ani.to_html5_video())\n",
    "vid"
   ]
  },
  {
   "cell_type": "code",
   "execution_count": null,
   "metadata": {},
   "outputs": [],
   "source": []
  }
 ],
 "metadata": {
  "colab": {
   "name": "driver_kmeans.ipynb",
   "provenance": []
  },
  "kernelspec": {
   "display_name": "Python 3",
   "language": "python",
   "name": "python3"
  },
  "language_info": {
   "codemirror_mode": {
    "name": "ipython",
    "version": 3
   },
   "file_extension": ".py",
   "mimetype": "text/x-python",
   "name": "python",
   "nbconvert_exporter": "python",
   "pygments_lexer": "ipython3",
   "version": "3.8.3"
  }
 },
 "nbformat": 4,
 "nbformat_minor": 1
}
