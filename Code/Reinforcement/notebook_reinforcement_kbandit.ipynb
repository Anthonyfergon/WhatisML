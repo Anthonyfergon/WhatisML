{
 "cells": [
  {
   "cell_type": "markdown",
   "metadata": {
    "id": "6i-hllHxi9j1"
   },
   "source": [
    "# **K Bandit Demo**"
   ]
  },
  {
   "cell_type": "code",
   "execution_count": null,
   "metadata": {
    "colab": {
     "base_uri": "https://localhost:8080/"
    },
    "id": "-SK0_ilGi9rU",
    "outputId": "bdc2d5e6-8c8d-4526-b97d-2f86bc713481"
   },
   "outputs": [],
   "source": [
    "# run this cell if you're using Google Colab\n",
    "try:\n",
    "    import google.colab\n",
    "    IN_COLAB = True\n",
    "except:\n",
    "    IN_COLAB = False\n",
    "\n",
    "if IN_COLAB:\n",
    "  import sys\n",
    "  import os\n",
    "  !git clone https://github.com/satishchandrareddy/WhatisML.git\n",
    "  code_location = \"/content/WhatisML/Code/Reinforcement\"\n",
    "  sys.path.append(os.path.abspath(code_location)) "
   ]
  },
  {
   "cell_type": "markdown",
   "metadata": {
    "id": "JVmGl6kqi9yY"
   },
   "source": [
    "## **Import Libraries**"
   ]
  },
  {
   "cell_type": "code",
   "execution_count": null,
   "metadata": {
    "id": "mxeL8tCni93C"
   },
   "outputs": [],
   "source": [
    "%matplotlib inline\n",
    "import kbandit\n",
    "import matplotlib.pyplot as plt"
   ]
  },
  {
   "cell_type": "markdown",
   "metadata": {},
   "source": [
    "## **Settings to Change**\n",
    "If you would like to experiment, here are settings to change"
   ]
  },
  {
   "cell_type": "code",
   "execution_count": null,
   "metadata": {},
   "outputs": [],
   "source": [
    "# Things to try:\n",
    "# Change random seed to get different random numbers: seed (integer)\n",
    "# Change number of bandits: nbandit (between 2 and 12)\n",
    "# Change epsilon - can compare 2 values: epsilon1 and epsilon2 (0<=epsilon<=1)\n",
    "# Change number of pulls: npull\n",
    "seed = 10\n",
    "nbandit = 10\n",
    "epsilon1 = 0\n",
    "epsilon2 = 0.1\n",
    "npull = 150"
   ]
  },
  {
   "cell_type": "markdown",
   "metadata": {
    "id": "_AQZelXki98z"
   },
   "source": [
    "### **1. Create Model**"
   ]
  },
  {
   "cell_type": "code",
   "execution_count": null,
   "metadata": {
    "id": "z5BIAxQci-BC"
   },
   "outputs": [],
   "source": [
    "list_epsilon = [epsilon1,epsilon2]\n",
    "nsim = 1000"
   ]
  },
  {
   "cell_type": "markdown",
   "metadata": {
    "id": "havynwo6i-Gq"
   },
   "source": [
    "### **2. Simulate**"
   ]
  },
  {
   "cell_type": "code",
   "execution_count": null,
   "metadata": {
    "colab": {
     "base_uri": "https://localhost:8080/"
    },
    "id": "1f9snhgxi-LX",
    "outputId": "dcf88262-9137-4824-f629-e854bfec8687"
   },
   "outputs": [],
   "source": [
    "list_na, list_reward = kbandit.run(list_epsilon,nbandit,nsim,npull,seed)"
   ]
  },
  {
   "cell_type": "markdown",
   "metadata": {
    "id": "jleda0Fzi-RB"
   },
   "source": [
    "### **3. Plot results**"
   ]
  },
  {
   "cell_type": "code",
   "execution_count": null,
   "metadata": {
    "colab": {
     "base_uri": "https://localhost:8080/",
     "height": 279
    },
    "id": "2I_IyFSIi-Vf",
    "outputId": "eed52f8d-8dbe-4e79-b62c-adfc12556130"
   },
   "outputs": [],
   "source": [
    "# plot proportion optimal as a function of time\n",
    "kbandit.plot_results_optimal(list_epsilon,list_na)"
   ]
  },
  {
   "cell_type": "code",
   "execution_count": null,
   "metadata": {
    "colab": {
     "base_uri": "https://localhost:8080/",
     "height": 279
    },
    "id": "lIDfWX6di-gO",
    "outputId": "e29bfaa0-eee1-4f73-920b-3db96ed34fb1"
   },
   "outputs": [],
   "source": [
    "# plot average reward\n",
    "kbandit.plot_results_reward(list_epsilon,list_reward)"
   ]
  },
  {
   "cell_type": "code",
   "execution_count": null,
   "metadata": {
    "colab": {
     "base_uri": "https://localhost:8080/",
     "height": 575
    },
    "id": "v8aw4i6zlnYG",
    "outputId": "e4622953-d085-4da3-d53f-16003ed2960e"
   },
   "outputs": [],
   "source": [
    "# animation of bar charts\n",
    "plt.rcParams[\"animation.html\"] = \"jshtml\"\n",
    "ani = kbandit.plot_results_bar_animation(list_epsilon[0:2],list_na[0:2])\n",
    "plt.close()\n",
    "ani"
   ]
  },
  {
   "cell_type": "code",
   "execution_count": null,
   "metadata": {},
   "outputs": [],
   "source": []
  }
 ],
 "metadata": {
  "colab": {
   "collapsed_sections": [],
   "name": "driver_reinforcement_kbandit.ipynb",
   "provenance": []
  },
  "kernelspec": {
   "display_name": "Python 3",
   "language": "python",
   "name": "python3"
  },
  "language_info": {
   "codemirror_mode": {
    "name": "ipython",
    "version": 3
   },
   "file_extension": ".py",
   "mimetype": "text/x-python",
   "name": "python",
   "nbconvert_exporter": "python",
   "pygments_lexer": "ipython3",
   "version": "3.8.3"
  }
 },
 "nbformat": 4,
 "nbformat_minor": 1
}
