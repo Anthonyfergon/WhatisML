{
 "cells": [
  {
   "cell_type": "markdown",
   "metadata": {
    "id": "6i-hllHxi9j1"
   },
   "source": [
    "# **Maze Demo**"
   ]
  },
  {
   "cell_type": "code",
   "execution_count": null,
   "metadata": {
    "colab": {
     "base_uri": "https://localhost:8080/"
    },
    "id": "-SK0_ilGi9rU",
    "outputId": "1ceace9d-a880-472e-91b7-a06ebeaeb2f5"
   },
   "outputs": [],
   "source": [
    "# run this cell if you're using Google Colab\n",
    "try:\n",
    "    import google.colab\n",
    "    IN_COLAB = True\n",
    "except:\n",
    "    IN_COLAB = False\n",
    "\n",
    "if IN_COLAB:\n",
    "  import sys\n",
    "  import os\n",
    "  !git clone https://github.com/satishchandrareddy/WhatisML.git\n",
    "  code_location = \"/content/WhatisML/Code/Reinforcement\"\n",
    "  sys.path.append(os.path.abspath(code_location)) "
   ]
  },
  {
   "cell_type": "markdown",
   "metadata": {
    "id": "JVmGl6kqi9yY"
   },
   "source": [
    "## **Import Libraries**"
   ]
  },
  {
   "cell_type": "code",
   "execution_count": null,
   "metadata": {
    "id": "mxeL8tCni93C"
   },
   "outputs": [],
   "source": [
    "from IPython.display import HTML\n",
    "import maze\n",
    "import matplotlib.pyplot as plt\n",
    "import numpy as np"
   ]
  },
  {
   "cell_type": "markdown",
   "metadata": {},
   "source": [
    "## **Settings to Change**\n",
    "If you would like to experiment, here are settings to change"
   ]
  },
  {
   "cell_type": "code",
   "execution_count": null,
   "metadata": {},
   "outputs": [],
   "source": [
    "# Things to try:\n",
    "# Change random seed to get different random numbers: seed\n",
    "# Change width and height of maze: width, height\n",
    "# Change number of episodes: nepisode \n",
    "seed = 11\n",
    "width = 5\n",
    "height = 5\n",
    "nepisode = 50 "
   ]
  },
  {
   "cell_type": "markdown",
   "metadata": {
    "id": "_AQZelXki98z"
   },
   "source": [
    "### **1. Create Model**"
   ]
  },
  {
   "cell_type": "code",
   "execution_count": null,
   "metadata": {
    "id": "z5BIAxQci-BC"
   },
   "outputs": [],
   "source": [
    "np.random.seed(seed)\n",
    "epsilon = 0.0\n",
    "model = maze.maze(width,height,epsilon)"
   ]
  },
  {
   "cell_type": "markdown",
   "metadata": {
    "id": "havynwo6i-Gq"
   },
   "source": [
    "### **2. Simulate**"
   ]
  },
  {
   "cell_type": "code",
   "execution_count": null,
   "metadata": {
    "id": "1f9snhgxi-LX"
   },
   "outputs": [],
   "source": [
    "alpha = 1\n",
    "model.qlearning(nepisode,alpha)"
   ]
  },
  {
   "cell_type": "markdown",
   "metadata": {
    "id": "jleda0Fzi-RB"
   },
   "source": [
    "### **3. Plot results**"
   ]
  },
  {
   "cell_type": "code",
   "execution_count": null,
   "metadata": {
    "colab": {
     "base_uri": "https://localhost:8080/",
     "height": 279
    },
    "id": "2I_IyFSIi-Vf",
    "outputId": "9e06b82f-bf3b-4fb2-9a72-d05ad0a0dd85"
   },
   "outputs": [],
   "source": [
    "# number of steps for each episode\n",
    "model.plot_steps()"
   ]
  },
  {
   "cell_type": "code",
   "execution_count": null,
   "metadata": {
    "colab": {
     "base_uri": "https://localhost:8080/",
     "height": 589
    },
    "id": "lIDfWX6di-gO",
    "outputId": "bace9844-8539-4e22-a0ea-bd3e44d0a861"
   },
   "outputs": [],
   "source": [
    "# animation of strategy\n",
    "ani = model.plot_strategy_animation()\n",
    "vid = HTML(ani.to_html5_video())\n",
    "vid"
   ]
  },
  {
   "cell_type": "code",
   "execution_count": null,
   "metadata": {},
   "outputs": [],
   "source": []
  }
 ],
 "metadata": {
  "colab": {
   "collapsed_sections": [],
   "name": "driver_maze.ipynb",
   "provenance": []
  },
  "kernelspec": {
   "display_name": "Python 3",
   "language": "python",
   "name": "python3"
  },
  "language_info": {
   "codemirror_mode": {
    "name": "ipython",
    "version": 3
   },
   "file_extension": ".py",
   "mimetype": "text/x-python",
   "name": "python",
   "nbconvert_exporter": "python",
   "pygments_lexer": "ipython3",
   "version": "3.8.3"
  }
 },
 "nbformat": 4,
 "nbformat_minor": 1
}
